{
 "cells": [
  {
   "cell_type": "code",
   "execution_count": null,
   "metadata": {},
   "outputs": [],
   "source": [
    "# Import libraries\n",
    "import pandas as pd\n",
    "import numpy as np"
   ]
  },
  {
   "cell_type": "code",
   "execution_count": null,
   "metadata": {},
   "outputs": [],
   "source": [
    "#Read input file\n",
    "df_input = pd.read_excel('data/Case Study for Business Analyst Financing.xlsx',sheet_name='Data')\n",
    "columns_new = {'Visit date': 'Visit_date', 'Lead Date':'Lead_Date', 'Sale Date':'Sale_Date', \n",
    "               'Business Solution':'Business_Solution', 'Is Visit':'Is_Visit', 'Is Lead':'Is_Lead', 'Is Sale':'Is_Sale'}\n",
    "df_input.rename(columns=columns_new,inplace=True)\n"
   ]
  },
  {
   "cell_type": "code",
   "execution_count": null,
   "metadata": {},
   "outputs": [],
   "source": [
    "df_input.info()"
   ]
  },
  {
   "cell_type": "code",
   "execution_count": null,
   "metadata": {},
   "outputs": [],
   "source": [
    "df_input.describe()"
   ]
  },
  {
   "cell_type": "code",
   "execution_count": null,
   "metadata": {},
   "outputs": [],
   "source": [
    "from pandas_profiling import ProfileReport\n",
    "\n",
    "prof = ProfileReport(df_input)\n",
    "prof.to_file(output_file='Data_profiling.html')"
   ]
  },
  {
   "cell_type": "code",
   "execution_count": null,
   "metadata": {},
   "outputs": [],
   "source": [
    "# Create table for missing data analysis\n",
    "\n",
    "def draw_missing_data_table(df):\n",
    "    total = df.isnull().sum().sort_values(ascending=False)\n",
    "    percent = (df.isnull().sum()/df.isnull().count()).sort_values(ascending=False)\n",
    "    missing_data = pd.concat([total, percent], axis=1, keys=['Total Missing', 'Percent of Missing'])\n",
    "    return missing_data\n",
    "\n",
    "# Analyse missing data\n",
    "draw_missing_data_table(df_input)"
   ]
  },
  {
   "cell_type": "code",
   "execution_count": null,
   "metadata": {},
   "outputs": [],
   "source": [
    "# Duplicate row check.\n",
    "\n",
    "print(\"Checking for duplicate Rows:\")\n",
    "print(\"-------------------------------------------------------\")\n",
    "print(\"Before duplicate row check: (Rows, Columns) = \",  df_input.shape)\n",
    "df_input.drop_duplicates(inplace=True)\n",
    "print(\"After duplicate row check:  (Rows, Columns) = \",  df_input.shape)\n",
    "print(\"-------------------------------------------------------\")"
   ]
  },
  {
   "cell_type": "code",
   "execution_count": null,
   "metadata": {},
   "outputs": [],
   "source": [
    "# Checking invalid date values.\n",
    "# Replacing these invalid dates with maximum allowed date for the given month.\n",
    "\n",
    "df_input['Sale_Date_ck']  = df_input[pd.to_datetime(df_input.Sale_Date, errors='coerce').isnull()].Sale_Date\n",
    "df_input['Sale_Date_ck'] = df_input['Sale_Date_ck'].isnull()\n",
    "df_input.head(10)\n",
    "\n",
    "import datetime\n",
    "import calendar\n",
    "\n",
    "for i in range(len(df_input)):\n",
    "    \n",
    "    if not df_input.loc[i]['Sale_Date_ck']:\n",
    "        year, month, day = df_input.loc[i]['Sale_Date'].split('-')\n",
    "        new_date = datetime.datetime(int(year), int(month), int(calendar.monthrange(int(year), int(month))[1]))\n",
    "        df_input.at[i,'Sale_Date'] = new_date\n",
    "\n",
    "df_input.drop(labels=\"Sale_Date_ck\",axis=1,inplace=True)"
   ]
  },
  {
   "cell_type": "code",
   "execution_count": null,
   "metadata": {},
   "outputs": [],
   "source": [
    "# Creating New fields.\n",
    "\n",
    "df_input['Visit_month'] = df_input.Visit_date.dt.to_period('M')\n",
    "df_input['Lead_month'] = df_input.Lead_Date.dt.to_period('M')\n",
    "df_input['Sale_month'] = df_input.Sale_Date.dt.to_period('M')\n",
    "\n",
    "df_input['Visit_date'] = df_input['Visit_date'].map(datetime.datetime.date) \n",
    "df_input['Lead_Date'] = df_input['Lead_Date'].map(datetime.datetime.date) \n",
    "\n",
    "\n",
    "df_input['Sale_Date'] = df_input.Sale_Date.dt.date\n",
    "df_input[\"Visit_to_Lead\"] = (df_input.Lead_Date - df_input.Visit_date).dt.days\n",
    "df_input[\"Lead_to_Sale\"] = (df_input.Sale_Date - df_input.Lead_Date).dt.days\n",
    "df_input[\"Visit_to_Sale\"] = (df_input.Sale_Date - df_input.Visit_date).dt.days"
   ]
  },
  {
   "cell_type": "code",
   "execution_count": null,
   "metadata": {},
   "outputs": [],
   "source": [
    "df_input.head(10)"
   ]
  },
  {
   "cell_type": "code",
   "execution_count": null,
   "metadata": {},
   "outputs": [],
   "source": [
    "df_input.sort_values(by=[\"Visit_date\",\"Lead_Date\",\"Sale_Date\"],inplace=True)\n"
   ]
  },
  {
   "cell_type": "code",
   "execution_count": null,
   "metadata": {},
   "outputs": [],
   "source": [
    "df_input.head(5)"
   ]
  },
  {
   "cell_type": "code",
   "execution_count": null,
   "metadata": {},
   "outputs": [],
   "source": [
    "df_input.drop_duplicates(subset=[\"Visit_date\",\"Lead_Date\",\"Sale_Date\",\"Business_Solution\"])"
   ]
  },
  {
   "cell_type": "code",
   "execution_count": null,
   "metadata": {},
   "outputs": [],
   "source": [
    "# Duplicates rows checking with key values\n",
    "# Keys - Visit_date, Lead_Date, Sale_Date, Business_Solution.\n",
    "\n",
    "df_input[df_input.duplicated(subset=[\"Visit_date\",\"Lead_Date\",\"Sale_Date\",\"Business_Solution\"],keep=False)].head(10)"
   ]
  },
  {
   "cell_type": "code",
   "execution_count": null,
   "metadata": {},
   "outputs": [],
   "source": [
    "# Aggregating metrcis values using keys.\n",
    "\n",
    "aggr = {'Is_Visit':'sum', 'Is_Lead':'sum', 'Is_Sale':'sum', 'Sale_month':'max', 'Visit_to_Lead':'max', 'Lead_to_Sale':'max',\n",
    "       'Visit_to_Sale':'max', 'Visit_month':'max', 'Lead_month':'max'}\n",
    "df_input_keyagg = df_input.groupby([\"Visit_date\",\"Lead_Date\",\"Sale_Date\",\"Business_Solution\"],as_index=False).agg(aggr)"
   ]
  },
  {
   "cell_type": "code",
   "execution_count": null,
   "metadata": {},
   "outputs": [],
   "source": [
    "df_input_keyagg.head(5)"
   ]
  },
  {
   "cell_type": "code",
   "execution_count": null,
   "metadata": {},
   "outputs": [],
   "source": [
    "#df_input_keyagg.groupby(['Sale_month','Business_Solution'], as_index=False).agg({'Is_Sale':'sum'}) \n",
    "\n",
    "df_input_mnagg = pd.merge(left=(pd.merge(left=df_input_keyagg.groupby(['Visit_month','Business_Solution'], as_index=False).agg({'Is_Visit':'sum'}), \n",
    "             right=df_input_keyagg.groupby(['Sale_month','Business_Solution'], as_index=False).agg({'Is_Sale':'sum'}), \n",
    "             how='inner', \n",
    "             left_on=['Visit_month','Business_Solution'], \n",
    "             right_on=['Sale_month','Business_Solution'])),\n",
    "             right=df_input_keyagg.groupby(['Lead_month','Business_Solution'], as_index=False).agg({'Is_Lead':'sum'}), \n",
    "             how='inner', \n",
    "             left_on=['Visit_month','Business_Solution'], \n",
    "             right_on=['Lead_month','Business_Solution'])"
   ]
  },
  {
   "cell_type": "code",
   "execution_count": null,
   "metadata": {},
   "outputs": [],
   "source": [
    "df_input_mnagg"
   ]
  },
  {
   "cell_type": "code",
   "execution_count": null,
   "metadata": {},
   "outputs": [],
   "source": [
    "#Reading Financial Business data\n",
    "\n",
    "df_fin = pd.read_excel('data/car_fin.xlsx')"
   ]
  },
  {
   "cell_type": "code",
   "execution_count": null,
   "metadata": {},
   "outputs": [],
   "source": [
    "df_fin.info()"
   ]
  },
  {
   "cell_type": "code",
   "execution_count": null,
   "metadata": {},
   "outputs": [],
   "source": [
    "df_ocdf =  pd.merge(left=df_input_mnagg, right=df_fin, how='inner', \n",
    "         left_on=['Visit_month','Business_Solution'], right_on=['Visit_month','Business_Solution'])\n",
    "df_ocdf"
   ]
  },
  {
   "cell_type": "code",
   "execution_count": null,
   "metadata": {},
   "outputs": [],
   "source": [
    "# Merging monthly data"
   ]
  },
  {
   "cell_type": "code",
   "execution_count": null,
   "metadata": {},
   "outputs": [],
   "source": [
    "df_mnt_stats = df_input_mnagg[['Visit_month']]\n",
    "df_mnt_stats.drop_duplicates(inplace=True)\n",
    "df_mnt_stats = df_mnt_stats.reset_index().drop('index',axis=1)"
   ]
  },
  {
   "cell_type": "code",
   "execution_count": null,
   "metadata": {},
   "outputs": [],
   "source": [
    "df_mnt_stats"
   ]
  },
  {
   "cell_type": "code",
   "execution_count": null,
   "metadata": {},
   "outputs": [],
   "source": [
    "df_ocdf\n",
    "df_mnt_stats\n",
    "\n",
    "df_summary =  pd.merge(left=df_ocdf, right=df_mnt_stats, how='left', \n",
    "                       left_on=['Visit_month'], right_on=['Visit_month'])\n"
   ]
  },
  {
   "cell_type": "code",
   "execution_count": null,
   "metadata": {},
   "outputs": [],
   "source": [
    "df_summary.to_excel('output/summary.xlsx',sheet_name='Summary')\n",
    "df_input_keyagg.to_excel('output/Data.xlsx',sheet_name='Data')"
   ]
  }
 ],
 "metadata": {
  "kernelspec": {
   "display_name": "Python 3",
   "language": "python",
   "name": "python3"
  },
  "language_info": {
   "codemirror_mode": {
    "name": "ipython",
    "version": 3
   },
   "file_extension": ".py",
   "mimetype": "text/x-python",
   "name": "python",
   "nbconvert_exporter": "python",
   "pygments_lexer": "ipython3",
   "version": "3.7.6"
  }
 },
 "nbformat": 4,
 "nbformat_minor": 4
}
